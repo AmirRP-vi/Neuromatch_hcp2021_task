{
 "cells": [
  {
   "cell_type": "code",
   "execution_count": 1,
   "id": "92dd740c",
   "metadata": {},
   "outputs": [
    {
     "name": "stderr",
     "output_type": "stream",
     "text": [
      "/tmp/ipykernel_2948/2022749410.py:17: DeprecationWarning: Python 3.14 will, by default, filter extracted tar archives and reject files or modify their metadata. Use the filter argument to control this behavior.\n",
      "  tar.extractall(path=LOCAL_HCP_DIR)\n"
     ]
    },
    {
     "name": "stdout",
     "output_type": "stream",
     "text": [
      "Extracting hcp_task.tgz...\n",
      "Extraction complete.\n",
      "Removed original .tgz file.\n",
      "All done.\n"
     ]
    }
   ],
   "source": [
    "import os\n",
    "import tarfile\n",
    "import shutil\n",
    "\n",
    "# Path where the .tgz is downloaded (adjust this path!)\n",
    "tgz_path = \"hcp_task.tgz\"\n",
    "\n",
    "# Folder where you want to extract it\n",
    "LOCAL_HCP_DIR = \"/home/amirreza/neuromatch\"\n",
    "local_extracted_path = os.path.join(LOCAL_HCP_DIR, \"hcp_task\")\n",
    "\n",
    "# 1. Extract if not already extracted\n",
    "if not os.path.exists(local_extracted_path):\n",
    "    os.makedirs(LOCAL_HCP_DIR, exist_ok=True)\n",
    "    print(f\"Extracting {tgz_path}...\")\n",
    "    with tarfile.open(tgz_path, \"r:gz\") as tar:\n",
    "        tar.extractall(path=LOCAL_HCP_DIR)\n",
    "    print(\"Extraction complete.\")\n",
    "else:\n",
    "    print(\"Data already extracted.\")\n",
    "\n",
    "# 2. Optional: Clean up original .tgz file\n",
    "if os.path.exists(tgz_path):\n",
    "    os.remove(tgz_path)\n",
    "    print(\"Removed original .tgz file.\")\n",
    "\n",
    "# 3. Optional: Clean up full directory (uncomment if needed)\n",
    "# shutil.rmtree(LOCAL_HCP_DIR)\n",
    "# print(\"Removed full extracted directory.\")\n",
    "\n",
    "print(\"All done.\")\n"
   ]
  }
 ],
 "metadata": {
  "kernelspec": {
   "display_name": "neuromatch",
   "language": "python",
   "name": "python3"
  },
  "language_info": {
   "codemirror_mode": {
    "name": "ipython",
    "version": 3
   },
   "file_extension": ".py",
   "mimetype": "text/x-python",
   "name": "python",
   "nbconvert_exporter": "python",
   "pygments_lexer": "ipython3",
   "version": "3.13.5"
  }
 },
 "nbformat": 4,
 "nbformat_minor": 5
}
